{
  "nbformat": 4,
  "nbformat_minor": 0,
  "metadata": {
    "colab": {
      "name": "Hw3_disambiguation.ipynb",
      "provenance": [],
      "collapsed_sections": [],
      "include_colab_link": true
    },
    "kernelspec": {
      "name": "python3",
      "display_name": "Python 3"
    }
  },
  "cells": [
    {
      "cell_type": "markdown",
      "metadata": {
        "id": "view-in-github",
        "colab_type": "text"
      },
      "source": [
        "<a href=\"https://colab.research.google.com/github/SerasLain/NLP_19_20/blob/master/hw3_disambiguation/Hw3_disambiguation.ipynb\" target=\"_parent\"><img src=\"https://colab.research.google.com/assets/colab-badge.svg\" alt=\"Open In Colab\"/></a>"
      ]
    },
    {
      "cell_type": "markdown",
      "metadata": {
        "id": "sIbk58HIDVTH",
        "colab_type": "text"
      },
      "source": [
        "Описание задания: Выберите одну из предложенных лексем: свет, острый, лук, замок.\n",
        "\n",
        "Выберите 2-3 значения лексемы по словарю (рекомендую использовать МАС, обязательно напишите, каким словарем пользовались). Для каждого значения придумайте несколько \"диагностических\" слов (которые сигнализируют о реализации одного из значений в контексте): например, ключ — вода / дверь. Подберите по НКРЯ контексты для выбранной лексемы, содержащие диагностические слова. Таким образом, получается размеченный тестсет.\n",
        "\n",
        "Для каждого контекста определите значение автоматически — с помощью AdaGram / ELMo на выбор. В случае с AdaGram вы сразу получаете какой-то номер значения, с ELMo — нужно кластеризовать.\n",
        "\n",
        "Возьмите словарные толкования для каждого значения и припишите ему значение автоматически тем же способом, что и в п.2.\n",
        "\n",
        "Придумайте и реализуйте способ соотнести толкования с значениями с помощью тезауруса (Wiki_ru_wordnet / РуТез).\n",
        "\n",
        "Оцените accuracy — в какой доле контекстов автоматически определенно значение для контекста совпадает с автоматически определенным значением толкования."
      ]
    },
    {
      "cell_type": "markdown",
      "metadata": {
        "id": "V664c5hgDeC5",
        "colab_type": "text"
      },
      "source": [
        "## Лук в словаре (МАС)\n",
        "\n",
        "Лук-1:\n",
        "\n",
        "1. Огородное растение сем. лилейных, овощ. \n",
        "2. собир. Съедобные трубчатые листья или луковицы этого растения. Зеленый лук. Репчатый лук.\n",
        "\n",
        "Лук-2:\n",
        "1. Ручное оружие для метания стрел в виде дуги, стянутой тетивой. Стрелять из лука. □ Всадник с натянутым луком мчался за семьей оленей.\n",
        "\n",
        "Слова для первого: зеленый, репчатый, нарезать.\n",
        "\n",
        "Слова для второго: стрелять, тетива, стрела"
      ]
    },
    {
      "cell_type": "markdown",
      "metadata": {
        "id": "7oBtdgszP_zO",
        "colab_type": "text"
      },
      "source": [
        "## Определим значения в контекстах"
      ]
    },
    {
      "cell_type": "code",
      "metadata": {
        "id": "b7XjF-byDOUp",
        "colab_type": "code",
        "colab": {}
      },
      "source": [
        "# Контексты первого значения\n",
        "\n",
        "onion_1 = \"В двойной солонке в одной чашечке белела соль, а в другой чашечке пурпурилась аджика. На столе были разбросаны кучки зелёного лука и свежие огурцы. ― Здравствуй, Чик, ― сказала тётя Катя, обдавая его теплом своей улыбки, привстала. Дядя Сандро тоже как бы приподнялся, но, дождавшись, когда Чик движением руки попросил их не двигаться, он как бы опустился на своё место.\"\n",
        "onion_2 = \"А омлеты? С грибами, с сыром, с зеленым луком? Из замороженных белков они тоже отлично получаются\"\n",
        "onion_3 = \"Сеть Billa предлагает полакомиться различными голландскими сырами Oldenburger в кубиках, паштетами Tulip, а также португальскими свиными окороками Cheffo Gurmia в различных вкусовых вариантах ― итого 13 позиций. Сеть фрешмаркетов «Лайм» удивила нас испанским репчатым луком (отечественного там нет), пельменями Pelmenit Helsingfors Tapaan из Финляндии и крабовым мясом по-французски из Литвы. В остальном стандартно: польские и голландские замороженные овощи Hortex и Aviko, говядина Bresaola и La Felinese из Италии. Финские супермаркеты Prisma, в соответствии с происхождением капитала, не могли отстать от своих российских конкурентов.\"\n",
        "onion_4 = \"Это и оборачивается против него ― не ценим. Но когда был нужен дюксель ― мелко нарезанные грибы с луком для фарширования чего угодно, ― то великий Ля Варенн брал шампиньоны. И когда соусы нужно было заполнять чем-то легким вместо муки и масла, то не менее великий Мишель Герар обращался к ним же. А совсем уже небожитель, повар Режис Маркон, который все меню своего трехзвездного ресторана в затерянной овернской деревне готовит сплошь из грибов, не брезгует шампиньоном.\"\n",
        "onion_5 = \"Но иногда он являлся весь обвешенный кульками и объявлял громко, что состоится пир на весь мир. Принимался готовить, отдавая нам приказания ― кому нарезать лук, кому вымыть рис, вскипятить воду. Странные растения шли в дело: сладкая картошка; звездообразные зеленые овощи; огурец, по словам Леона огурцом не бывший, и все-таки называвшийся огурцом. Блюд готовилось несколько: мясо с перцем вымачивалось в маринаде, куриные ножки становились сладкими, картофельное пюре смешивалось с авокадо, в красной подливе к рису плавали маленькие креветки.\"\n",
        "\n",
        "contexts_o = [onion_1, onion_2, onion_3, onion_4, onion_5]\n",
        "\n",
        "# Контексты второго значения\n",
        "bow_1 = \"Опять эти обрыдшие ей индейцы! Этот проклятый лук и стрелы. Взрослые решили за неё, что она обязательно должна запоем читать Майн Рида, бредить индейцами, скальпами, бизонами, томагавками, и она, чтоб не подвести их, с воинственными криками носилась по саду, собирала гусиные перья и пачкала лицо дикими разводами под глазами ― марать одежду ей запрещали.\"\n",
        "bow_2 = \"Чтобы участвовать в ней, нужно было прятаться в песчаные гроты, взбираться на деревья, падать в волчьи ямы, стрелять из луков и рогаток, что опять-таки было далеко не безопасным, ― словом, проделывать множество интересных, но абсолютно неприемлемых, с точки зрения гигиены, приличия и сохранения одежды, трюков. Играть поэтому приходилось тихонько, забираясь в самые далёкие чащи сада и тщательно хоронясь от постороннего глаза. Было нас восемь краснокожих, смертельно, по замыслу игры, ненавидящих друг друга и твёрдо выполняющих три основных правила ― не трусить, не плакать, не жаловаться.\"\n",
        "bow_3 = \"Среди них стоял юноша выше, красивее и стройнее других. У всех за спиною были стрелы, лук, топорики и копья. Они говорили своему вождю, стройному юноше, вооружённому лучше и богаче других: ― О, великий, смелый вождь!\"\n",
        "bow_4 = \"Казалось бы, где арбалеты, а где Великая Отечественная? В ГД ― рядом: там еще и из луков стреляют, а также из винтовок и пистолетов. Каждая думская фракция выставила троих лучших стрелков, а «Единой России» разрешили прислать даже две команды вместо одной. Но первыми все равно стали эсэры, а вторыми ― ЛДПР.\"\n",
        "bow_5 = \"Было это за два месяца до его плена. Магда была черноволоса, смугла и тонка, как тетива лука; гнулась в любую сторону ― хоть в цирке выступай. Да все наше «свадебное путешествие», подумал Натан с улыбкой, собственно, и было ― цирковой акробатикой. От Рош-Пины, очаровательного старого городка, заложенного лет сто пятьдесят назад выходцами из Румынии, Натан повернул на Цфат и стал подниматься по горной сосновой дороге, притормаживая на слишком крутых виражах.\"\n",
        "\n",
        "contexts_b = [bow_1, bow_2, bow_3, bow_4, bow_5]"
      ],
      "execution_count": 0,
      "outputs": []
    },
    {
      "cell_type": "code",
      "metadata": {
        "id": "plXsUgDeGDE-",
        "colab_type": "code",
        "outputId": "77e13514-a8a9-47b0-f4a3-42ef1e739bc1",
        "colab": {
          "base_uri": "https://localhost:8080/",
          "height": 222
        }
      },
      "source": [
        "!wget https://s3.amazonaws.com/kostia.lopuhin/all.a010.p10.d300.w5.m100.nonorm.slim.joblib"
      ],
      "execution_count": 23,
      "outputs": [
        {
          "output_type": "stream",
          "text": [
            "--2019-12-08 15:06:01--  https://s3.amazonaws.com/kostia.lopuhin/all.a010.p10.d300.w5.m100.nonorm.slim.joblib\n",
            "Resolving s3.amazonaws.com (s3.amazonaws.com)... 52.216.145.141\n",
            "Connecting to s3.amazonaws.com (s3.amazonaws.com)|52.216.145.141|:443... connected.\n",
            "HTTP request sent, awaiting response... 200 OK\n",
            "Length: 1462416741 (1.4G) [application/x-www-form-urlencoded]\n",
            "Saving to: ‘all.a010.p10.d300.w5.m100.nonorm.slim.joblib.3’\n",
            "\n",
            "all.a010.p10.d300.w 100%[===================>]   1.36G  69.1MB/s    in 20s     \n",
            "\n",
            "2019-12-08 15:06:22 (69.3 MB/s) - ‘all.a010.p10.d300.w5.m100.nonorm.slim.joblib.3’ saved [1462416741/1462416741]\n",
            "\n"
          ],
          "name": "stdout"
        }
      ]
    },
    {
      "cell_type": "code",
      "metadata": {
        "id": "ugksEtgwGjHN",
        "colab_type": "code",
        "outputId": "f5254c9c-c938-4550-a060-805547b81db8",
        "colab": {
          "base_uri": "https://localhost:8080/",
          "height": 255
        }
      },
      "source": [
        "!pip install git+https://github.com/lopuhin/python-adagram.git"
      ],
      "execution_count": 24,
      "outputs": [
        {
          "output_type": "stream",
          "text": [
            "Collecting git+https://github.com/lopuhin/python-adagram.git\n",
            "  Cloning https://github.com/lopuhin/python-adagram.git to /tmp/pip-req-build-h3fbcaky\n",
            "  Running command git clone -q https://github.com/lopuhin/python-adagram.git /tmp/pip-req-build-h3fbcaky\n",
            "Requirement already satisfied (use --upgrade to upgrade): adagram==0.0.1 from git+https://github.com/lopuhin/python-adagram.git in /usr/local/lib/python3.6/dist-packages\n",
            "Requirement already satisfied: cython in /usr/local/lib/python3.6/dist-packages (from adagram==0.0.1) (0.29.14)\n",
            "Requirement already satisfied: joblib in /usr/local/lib/python3.6/dist-packages (from adagram==0.0.1) (0.14.0)\n",
            "Requirement already satisfied: numpy>=1.9 in /usr/local/lib/python3.6/dist-packages (from adagram==0.0.1) (1.17.4)\n",
            "Requirement already satisfied: six in /usr/local/lib/python3.6/dist-packages (from adagram==0.0.1) (1.12.0)\n",
            "Building wheels for collected packages: adagram\n",
            "  Building wheel for adagram (setup.py) ... \u001b[?25l\u001b[?25hdone\n",
            "  Created wheel for adagram: filename=adagram-0.0.1-cp36-cp36m-linux_x86_64.whl size=464623 sha256=36f8d27680fb7d55565400d8ec2f62492634998ca169b4aeede9ce0a7de4d50e\n",
            "  Stored in directory: /tmp/pip-ephem-wheel-cache-dxm9t7e8/wheels/11/0f/46/f5df96670df8f7973b4c2311ffc9b02e435a7bd3207f992c4d\n",
            "Successfully built adagram\n"
          ],
          "name": "stdout"
        }
      ]
    },
    {
      "cell_type": "code",
      "metadata": {
        "id": "e5osSc0ADuBF",
        "colab_type": "code",
        "colab": {}
      },
      "source": [
        "import adagram\n",
        "vm = adagram.VectorModel.load('all.a010.p10.d300.w5.m100.nonorm.slim.joblib')"
      ],
      "execution_count": 0,
      "outputs": []
    },
    {
      "cell_type": "code",
      "metadata": {
        "id": "GXE7eIUREn3k",
        "colab_type": "code",
        "outputId": "e1f9f83c-777a-4889-d55f-13742efbef27",
        "colab": {
          "base_uri": "https://localhost:8080/",
          "height": 138
        }
      },
      "source": [
        "# В колабе pymytstem3 зависает, поэтому нужна не последняя версия \n",
        "!pip install pymystem3==0.1.10"
      ],
      "execution_count": 26,
      "outputs": [
        {
          "output_type": "stream",
          "text": [
            "Requirement already satisfied: pymystem3==0.1.10 in /usr/local/lib/python3.6/dist-packages (0.1.10)\n",
            "Requirement already satisfied: requests in /usr/local/lib/python3.6/dist-packages (from pymystem3==0.1.10) (2.21.0)\n",
            "Requirement already satisfied: urllib3<1.25,>=1.21.1 in /usr/local/lib/python3.6/dist-packages (from requests->pymystem3==0.1.10) (1.24.3)\n",
            "Requirement already satisfied: idna<2.9,>=2.5 in /usr/local/lib/python3.6/dist-packages (from requests->pymystem3==0.1.10) (2.8)\n",
            "Requirement already satisfied: chardet<3.1.0,>=3.0.2 in /usr/local/lib/python3.6/dist-packages (from requests->pymystem3==0.1.10) (3.0.4)\n",
            "Requirement already satisfied: certifi>=2017.4.17 in /usr/local/lib/python3.6/dist-packages (from requests->pymystem3==0.1.10) (2019.11.28)\n"
          ],
          "name": "stdout"
        }
      ]
    },
    {
      "cell_type": "code",
      "metadata": {
        "id": "L-lCzbK-DlFw",
        "colab_type": "code",
        "colab": {}
      },
      "source": [
        "from pymystem3 import Mystem\n",
        "from nltk.tokenize import RegexpTokenizer\n",
        "\n",
        "token = RegexpTokenizer('\\w+')\n",
        "\n",
        "def tokenize(text):\n",
        "    return token.tokenize(text)\n",
        "\n",
        "m = Mystem()\n",
        "def disambiguate(model, word, context):\n",
        "    word, _ = lemmatized_context(word)\n",
        "    probs = model.disambiguate(word, lemmatized_context(context))\n",
        "    return probs.argmax()\n",
        "\n",
        "def lemmatized_context(s):\n",
        "    return [w.lower() for w in m.lemmatize(\" \".join(tokenize(s)))]"
      ],
      "execution_count": 0,
      "outputs": []
    },
    {
      "cell_type": "code",
      "metadata": {
        "id": "i_MEA5JhHTKB",
        "colab_type": "code",
        "outputId": "b66a078f-4165-4095-be3b-ee335e1c90a4",
        "colab": {
          "base_uri": "https://localhost:8080/",
          "height": 574
        }
      },
      "source": [
        "y_predicted = []\n",
        "word = \"лук\"\n",
        "for context in contexts_o:\n",
        "    meaning = disambiguate(vm, word, context)\n",
        "    y_predicted.append(meaning)\n",
        "    print('Контекст: ', context, '\\nЗначение: ', meaning)\n",
        "\n",
        "\n",
        "for context in contexts_b:\n",
        "    meaning = disambiguate(vm, word, context)\n",
        "    y_predicted.append(meaning)\n",
        "    print('Контекст: ', context, '\\nЗначение: ', meaning)\n"
      ],
      "execution_count": 68,
      "outputs": [
        {
          "output_type": "stream",
          "text": [
            "лук\n",
            "Контекст:  В двойной солонке в одной чашечке белела соль, а в другой чашечке пурпурилась аджика. На столе были разбросаны кучки зелёного лука и свежие огурцы. ― Здравствуй, Чик, ― сказала тётя Катя, обдавая его теплом своей улыбки, привстала. Дядя Сандро тоже как бы приподнялся, но, дождавшись, когда Чик движением руки попросил их не двигаться, он как бы опустился на своё место. \n",
            "Значение:  4\n",
            "лук\n",
            "Контекст:  А омлеты? С грибами, с сыром, с зеленым луком? Из замороженных белков они тоже отлично получаются \n",
            "Значение:  2\n",
            "лук\n",
            "Контекст:  Сеть Billa предлагает полакомиться различными голландскими сырами Oldenburger в кубиках, паштетами Tulip, а также португальскими свиными окороками Cheffo Gurmia в различных вкусовых вариантах ― итого 13 позиций. Сеть фрешмаркетов «Лайм» удивила нас испанским репчатым луком (отечественного там нет), пельменями Pelmenit Helsingfors Tapaan из Финляндии и крабовым мясом по-французски из Литвы. В остальном стандартно: польские и голландские замороженные овощи Hortex и Aviko, говядина Bresaola и La Felinese из Италии. Финские супермаркеты Prisma, в соответствии с происхождением капитала, не могли отстать от своих российских конкурентов. \n",
            "Значение:  2\n",
            "лук\n",
            "Контекст:  Это и оборачивается против него ― не ценим. Но когда был нужен дюксель ― мелко нарезанные грибы с луком для фарширования чего угодно, ― то великий Ля Варенн брал шампиньоны. И когда соусы нужно было заполнять чем-то легким вместо муки и масла, то не менее великий Мишель Герар обращался к ним же. А совсем уже небожитель, повар Режис Маркон, который все меню своего трехзвездного ресторана в затерянной овернской деревне готовит сплошь из грибов, не брезгует шампиньоном. \n",
            "Значение:  2\n",
            "лук\n",
            "Контекст:  Но иногда он являлся весь обвешенный кульками и объявлял громко, что состоится пир на весь мир. Принимался готовить, отдавая нам приказания ― кому нарезать лук, кому вымыть рис, вскипятить воду. Странные растения шли в дело: сладкая картошка; звездообразные зеленые овощи; огурец, по словам Леона огурцом не бывший, и все-таки называвшийся огурцом. Блюд готовилось несколько: мясо с перцем вымачивалось в маринаде, куриные ножки становились сладкими, картофельное пюре смешивалось с авокадо, в красной подливе к рису плавали маленькие креветки. \n",
            "Значение:  2\n",
            "лук\n",
            "Контекст:  Опять эти обрыдшие ей индейцы! Этот проклятый лук и стрелы. Взрослые решили за неё, что она обязательно должна запоем читать Майн Рида, бредить индейцами, скальпами, бизонами, томагавками, и она, чтоб не подвести их, с воинственными криками носилась по саду, собирала гусиные перья и пачкала лицо дикими разводами под глазами ― марать одежду ей запрещали. \n",
            "Значение:  4\n",
            "лук\n",
            "Контекст:  Чтобы участвовать в ней, нужно было прятаться в песчаные гроты, взбираться на деревья, падать в волчьи ямы, стрелять из луков и рогаток, что опять-таки было далеко не безопасным, ― словом, проделывать множество интересных, но абсолютно неприемлемых, с точки зрения гигиены, приличия и сохранения одежды, трюков. Играть поэтому приходилось тихонько, забираясь в самые далёкие чащи сада и тщательно хоронясь от постороннего глаза. Было нас восемь краснокожих, смертельно, по замыслу игры, ненавидящих друг друга и твёрдо выполняющих три основных правила ― не трусить, не плакать, не жаловаться. \n",
            "Значение:  1\n",
            "лук\n",
            "Контекст:  Среди них стоял юноша выше, красивее и стройнее других. У всех за спиною были стрелы, лук, топорики и копья. Они говорили своему вождю, стройному юноше, вооружённому лучше и богаче других: ― О, великий, смелый вождь! \n",
            "Значение:  4\n",
            "лук\n",
            "Контекст:  Казалось бы, где арбалеты, а где Великая Отечественная? В ГД ― рядом: там еще и из луков стреляют, а также из винтовок и пистолетов. Каждая думская фракция выставила троих лучших стрелков, а «Единой России» разрешили прислать даже две команды вместо одной. Но первыми все равно стали эсэры, а вторыми ― ЛДПР. \n",
            "Значение:  1\n",
            "лук\n",
            "Контекст:  Было это за два месяца до его плена. Магда была черноволоса, смугла и тонка, как тетива лука; гнулась в любую сторону ― хоть в цирке выступай. Да все наше «свадебное путешествие», подумал Натан с улыбкой, собственно, и было ― цирковой акробатикой. От Рош-Пины, очаровательного старого городка, заложенного лет сто пятьдесят назад выходцами из Румынии, Натан повернул на Цфат и стал подниматься по горной сосновой дороге, притормаживая на слишком крутых виражах. \n",
            "Значение:  1\n"
          ],
          "name": "stdout"
        },
        {
          "output_type": "stream",
          "text": [
            "/usr/local/lib/python3.6/dist-packages/adagram/model.py:171: RuntimeWarning: divide by zero encountered in log\n",
            "  z = np.log(z)\n"
          ],
          "name": "stderr"
        }
      ]
    },
    {
      "cell_type": "markdown",
      "metadata": {
        "id": "qqVUCCRXQGRh",
        "colab_type": "text"
      },
      "source": [
        "## Определим значения словарных статей"
      ]
    },
    {
      "cell_type": "code",
      "metadata": {
        "id": "WWsdGEwNHT0Z",
        "colab_type": "code",
        "colab": {}
      },
      "source": [
        "dictionary_o = \"Огородное растение сем. лилейных, овощ. собир. Съедобные трубчатые листья или луковицы этого растения. Зеленый лук. Репчатый лук.\"\n",
        "dictionary_b = \"Ручное оружие для метания стрел в виде дуги, стянутой тетивой. Стрелять из лука. □ Всадник с натянутым луком мчался за семьей оленей.\""
      ],
      "execution_count": 0,
      "outputs": []
    },
    {
      "cell_type": "code",
      "metadata": {
        "id": "VDwpFPvoL-YH",
        "colab_type": "code",
        "outputId": "645c1972-2b00-418e-fddf-6d0fefa7d385",
        "colab": {
          "base_uri": "https://localhost:8080/",
          "height": 171
        }
      },
      "source": [
        "meaning_o = disambiguate(vm, word, dictionary_o)\n",
        "print('Контекст: ', dictionary_o, '\\nЗначение: ', meaning)\n",
        "\n",
        "meaning_b = disambiguate(vm, word, dictionary_b)\n",
        "print('Контекст: ', dictionary_b, '\\nЗначение: ', meaning)"
      ],
      "execution_count": 70,
      "outputs": [
        {
          "output_type": "stream",
          "text": [
            "лук\n",
            "Контекст:  Огородное растение сем. лилейных, овощ. собир. Съедобные трубчатые листья или луковицы этого растения. Зеленый лук. Репчатый лук. \n",
            "Значение:  1\n",
            "лук\n",
            "Контекст:  Ручное оружие для метания стрел в виде дуги, стянутой тетивой. Стрелять из лука. □ Всадник с натянутым луком мчался за семьей оленей. \n",
            "Значение:  1\n"
          ],
          "name": "stdout"
        },
        {
          "output_type": "stream",
          "text": [
            "/usr/local/lib/python3.6/dist-packages/adagram/model.py:171: RuntimeWarning: divide by zero encountered in log\n",
            "  z = np.log(z)\n"
          ],
          "name": "stderr"
        }
      ]
    },
    {
      "cell_type": "markdown",
      "metadata": {
        "id": "_2uKZg0iNusl",
        "colab_type": "text"
      },
      "source": [
        "Давайте проверим, насколько хорошо определилось значение и проверим для этого соседей по смыслу:"
      ]
    },
    {
      "cell_type": "code",
      "metadata": {
        "id": "lIGAoIWUMLpt",
        "colab_type": "code",
        "outputId": "c8f67e5c-5aec-48b5-fad9-ed4ac1e954ba",
        "colab": {
          "base_uri": "https://localhost:8080/",
          "height": 238
        }
      },
      "source": [
        "vm.sense_neighbors('лук', 0)"
      ],
      "execution_count": 71,
      "outputs": [
        {
          "output_type": "stream",
          "text": [
            "/usr/local/lib/python3.6/dist-packages/adagram/model.py:124: RuntimeWarning: invalid value encountered in true_divide\n",
            "  sim_matrix = np.dot(self.In, s_v) / self.InNorms\n"
          ],
          "name": "stderr"
        },
        {
          "output_type": "execute_result",
          "data": {
            "text/plain": [
              "[('морковь', 0, 0.8814602),\n",
              " ('помидор', 0, 0.879848),\n",
              " ('лук-порей', 0, 0.8786377),\n",
              " ('зелень', 0, 0.872901),\n",
              " ('нарезать', 0, 0.8665899),\n",
              " ('нашинковывать', 0, 0.86500126),\n",
              " ('сельдерей', 0, 0.86482704),\n",
              " ('петрушка', 0, 0.8591249),\n",
              " ('мелко', 0, 0.8526903),\n",
              " ('нарубать', 0, 0.85126823)]"
            ]
          },
          "metadata": {
            "tags": []
          },
          "execution_count": 71
        }
      ]
    },
    {
      "cell_type": "code",
      "metadata": {
        "id": "9VOb03XVKoqi",
        "colab_type": "code",
        "colab": {
          "base_uri": "https://localhost:8080/",
          "height": 238
        },
        "outputId": "4977a614-1bae-4672-de10-ec6ca958d779"
      },
      "source": [
        "vm.sense_neighbors('лук', 1)"
      ],
      "execution_count": 72,
      "outputs": [
        {
          "output_type": "stream",
          "text": [
            "/usr/local/lib/python3.6/dist-packages/adagram/model.py:124: RuntimeWarning: invalid value encountered in true_divide\n",
            "  sim_matrix = np.dot(self.In, s_v) / self.InNorms\n"
          ],
          "name": "stderr"
        },
        {
          "output_type": "execute_result",
          "data": {
            "text/plain": [
              "[('арбалет', 0, 0.7783164),\n",
              " ('дротик', 0, 0.6703703),\n",
              " ('пращ', 0, 0.6575549),\n",
              " ('самострел', 0, 0.64090955),\n",
              " ('мушкет', 0, 0.60409844),\n",
              " ('аркебуза', 0, 0.5913013),\n",
              " ('стрелять', 0, 0.5830755),\n",
              " ('дробовик', 0, 0.5742717),\n",
              " ('пневматический', 1, 0.5695134),\n",
              " ('аркебуз', 0, 0.56936765)]"
            ]
          },
          "metadata": {
            "tags": []
          },
          "execution_count": 72
        }
      ]
    },
    {
      "cell_type": "code",
      "metadata": {
        "id": "9s-O4WuLNppS",
        "colab_type": "code",
        "outputId": "90d97aac-eec5-4fd3-c8d3-8e6f15aa1f55",
        "colab": {
          "base_uri": "https://localhost:8080/",
          "height": 238
        }
      },
      "source": [
        "vm.sense_neighbors('лук', 2)"
      ],
      "execution_count": 73,
      "outputs": [
        {
          "output_type": "stream",
          "text": [
            "/usr/local/lib/python3.6/dist-packages/adagram/model.py:124: RuntimeWarning: invalid value encountered in true_divide\n",
            "  sim_matrix = np.dot(self.In, s_v) / self.InNorms\n"
          ],
          "name": "stderr"
        },
        {
          "output_type": "execute_result",
          "data": {
            "text/plain": [
              "[('чеснок', 1, 0.85911405),\n",
              " ('морковь', 1, 0.81938416),\n",
              " ('картошка', 0, 0.8175392),\n",
              " ('гриб', 0, 0.8077784),\n",
              " ('лучок', 0, 0.802615),\n",
              " ('рубленый', 0, 0.7972997),\n",
              " ('морковка', 0, 0.79638934),\n",
              " ('помидор', 2, 0.792623),\n",
              " ('томат', 0, 0.7870822),\n",
              " ('перец', 1, 0.78552675)]"
            ]
          },
          "metadata": {
            "tags": []
          },
          "execution_count": 73
        }
      ]
    },
    {
      "cell_type": "code",
      "metadata": {
        "id": "fEERCDlvKv_W",
        "colab_type": "code",
        "colab": {
          "base_uri": "https://localhost:8080/",
          "height": 238
        },
        "outputId": "62ef94fd-4f11-4c5c-a0cb-e361b2e83176"
      },
      "source": [
        "vm.sense_neighbors('лук', 3)"
      ],
      "execution_count": 74,
      "outputs": [
        {
          "output_type": "stream",
          "text": [
            "/usr/local/lib/python3.6/dist-packages/adagram/model.py:124: RuntimeWarning: invalid value encountered in true_divide\n",
            "  sim_matrix = np.dot(self.In, s_v) / self.InNorms\n"
          ],
          "name": "stderr"
        },
        {
          "output_type": "execute_result",
          "data": {
            "text/plain": [
              "[('лука', 1, 0.6011757),\n",
              " ('евангелист', 0, 0.54460436),\n",
              " ('иаков', 0, 0.5291651),\n",
              " ('лука', 2, 0.5226612),\n",
              " ('матфей', 1, 0.52241987),\n",
              " ('матфей', 0, 0.5201959),\n",
              " ('деяние', 1, 0.50425464),\n",
              " ('иоанн', 2, 0.50399673),\n",
              " ('апостол', 1, 0.49078336),\n",
              " ('ириней', 1, 0.49005806)]"
            ]
          },
          "metadata": {
            "tags": []
          },
          "execution_count": 74
        }
      ]
    },
    {
      "cell_type": "markdown",
      "metadata": {
        "id": "r3PXhfGPK9Ei",
        "colab_type": "text"
      },
      "source": [
        "Явно не наш кандидат"
      ]
    },
    {
      "cell_type": "code",
      "metadata": {
        "id": "urX1SCPJNT74",
        "colab_type": "code",
        "outputId": "01204995-5312-4349-d324-f374e0621701",
        "colab": {
          "base_uri": "https://localhost:8080/",
          "height": 238
        }
      },
      "source": [
        "vm.sense_neighbors('лук', 4)"
      ],
      "execution_count": 75,
      "outputs": [
        {
          "output_type": "stream",
          "text": [
            "/usr/local/lib/python3.6/dist-packages/adagram/model.py:124: RuntimeWarning: invalid value encountered in true_divide\n",
            "  sim_matrix = np.dot(self.In, s_v) / self.InNorms\n"
          ],
          "name": "stderr"
        },
        {
          "output_type": "execute_result",
          "data": {
            "text/plain": [
              "[('лука', 0, 0.805669),\n",
              " ('арбалет', 1, 0.78230816),\n",
              " ('колчан', 0, 0.7731788),\n",
              " ('тетива', 0, 0.72229147),\n",
              " ('стрела', 0, 0.6901984),\n",
              " ('копье', 0, 0.68338805),\n",
              " ('самострел', 0, 0.67639554),\n",
              " ('копье', 1, 0.6679108),\n",
              " ('секира', 0, 0.6648324),\n",
              " ('палица', 0, 0.6603637)]"
            ]
          },
          "metadata": {
            "tags": []
          },
          "execution_count": 75
        }
      ]
    },
    {
      "cell_type": "markdown",
      "metadata": {
        "id": "KJKLloepOB0E",
        "colab_type": "text"
      },
      "source": [
        "Кажется, что неплохо!"
      ]
    },
    {
      "cell_type": "markdown",
      "metadata": {
        "id": "ButXAXz8P5n1",
        "colab_type": "text"
      },
      "source": [
        "## Accuracy"
      ]
    },
    {
      "cell_type": "code",
      "metadata": {
        "id": "sGdYz_9uOndy",
        "colab_type": "code",
        "outputId": "943108e0-201a-4e0e-94a0-2192ef7b8e01",
        "colab": {
          "base_uri": "https://localhost:8080/",
          "height": 34
        }
      },
      "source": [
        "y_true = [meaning_o]*5 + [meaning_b]*5\n",
        "y_true"
      ],
      "execution_count": 76,
      "outputs": [
        {
          "output_type": "execute_result",
          "data": {
            "text/plain": [
              "[0, 0, 0, 0, 0, 4, 4, 4, 4, 4]"
            ]
          },
          "metadata": {
            "tags": []
          },
          "execution_count": 76
        }
      ]
    },
    {
      "cell_type": "code",
      "metadata": {
        "id": "H032xEqePPtW",
        "colab_type": "code",
        "outputId": "d724d2a8-23ea-422f-a1eb-ef7cd7d143fd",
        "colab": {
          "base_uri": "https://localhost:8080/",
          "height": 34
        }
      },
      "source": [
        "from sklearn.metrics import accuracy_score\n",
        "\n",
        "accuracy_score(y_true, y_predicted)"
      ],
      "execution_count": 35,
      "outputs": [
        {
          "output_type": "execute_result",
          "data": {
            "text/plain": [
              "0.2"
            ]
          },
          "metadata": {
            "tags": []
          },
          "execution_count": 35
        }
      ]
    },
    {
      "cell_type": "markdown",
      "metadata": {
        "id": "51rxHX1XPvlp",
        "colab_type": "text"
      },
      "source": [
        "Видимо, низкий результат связан с тем, что в словаре значений меньше, чем выделяет адаграм."
      ]
    },
    {
      "cell_type": "markdown",
      "metadata": {
        "id": "uSRkDjIoQw1-",
        "colab_type": "text"
      },
      "source": [
        "## Тезаурус"
      ]
    },
    {
      "cell_type": "code",
      "metadata": {
        "id": "FSoKbigiPiBF",
        "colab_type": "code",
        "outputId": "cb5d2d14-346c-4a19-8252-97956a6ba554",
        "colab": {
          "base_uri": "https://localhost:8080/",
          "height": 54
        }
      },
      "source": [
        "!pip install wiki_ru_wordnet"
      ],
      "execution_count": 36,
      "outputs": [
        {
          "output_type": "stream",
          "text": [
            "Requirement already satisfied: wiki_ru_wordnet in /usr/local/lib/python3.6/dist-packages (1.0.3)\n"
          ],
          "name": "stdout"
        }
      ]
    },
    {
      "cell_type": "code",
      "metadata": {
        "id": "Fo0IQsFYRH-P",
        "colab_type": "code",
        "colab": {}
      },
      "source": [
        "from wiki_ru_wordnet import WikiWordnet\n",
        "import re\n",
        "ruwn = WikiWordnet()"
      ],
      "execution_count": 0,
      "outputs": []
    },
    {
      "cell_type": "code",
      "metadata": {
        "id": "qJzTUEbgRfHu",
        "colab_type": "code",
        "colab": {}
      },
      "source": [
        "import networkx as nx"
      ],
      "execution_count": 0,
      "outputs": []
    },
    {
      "cell_type": "code",
      "metadata": {
        "id": "vAZabhpQPhKx",
        "colab_type": "code",
        "outputId": "da2b7b54-1260-4bd0-ee76-e8fa3b3ce834",
        "colab": {
          "base_uri": "https://localhost:8080/",
          "height": 138
        }
      },
      "source": [
        "words = ruwn.get_synsets('лук')\n",
        "definitions = []\n",
        "for synset in words:\n",
        "    definitions = definitions + [i.definition() for i in  synset.get_words()]\n",
        "    print([(i.lemma(), i.definition()) for i in  synset.get_words()])\n"
      ],
      "execution_count": 79,
      "outputs": [
        {
          "output_type": "stream",
          "text": [
            "[('лук', \"лук~ru~лук~ru~{{ботан.|ru}} род луковичных [[растений]] (''Allium'') семейства [[Луковые]] (Alliaceae) {{пример|Там какое-то болото было, а {{выдел|лук}} рос на кочках.|Валентин Распутин|Последний срок|1970|источник=НКРЯ}}~65218~74957\")]\n",
            "[('луковица', 'луковица~ru~луковица~ru~головка лука {{пример|Разыскав связку лука, Детрей очистил две {{выдел|луковицы}}, искрошил, перемешал на большой сковороде с солью|Грин|Джесси и Моргиана|1928|источник=НКРЯ}}~45439~47202'), ('лук', 'лук~ru~лук~ru~{{=|репчатый лук|[[луковица|луковицы]] лука [1] как пищевой продукт}} {{пример|Кроме того, он был сварен с большим количеством {{выдел|лука}}, а Валя не любила варёный {{выдел|лук}}.|Татьяна Тронина|Русалка для интимных встреч|2004|источник=НКРЯ}}~94921~68014')]\n",
            "[('лук', 'лук~ru~лук~ru~{{=|зелёный лук|перья лука [1] как пищевой продукт}} {{пример|Она тыкала перья {{выдел|лука}} в соль, откусывала хлеб, подносила кружку дрожащей рукой ко рту, в серое пятнышко соли пулями ударялись слёзы и насквозь, до скоблёного дерева, пробивали его, развеивая по столу серую соляную пыль.|Виктор Астафьев|Весёлый солдат|издание=Новый Мир|1998|источник=НКРЯ}}~3840~28787')]\n",
            "[('лук', 'лук~ru~лук~ru~{{=|гусиный лук|({{lang|la|Gagea}}) — род травянистых луковичных растений семейства [[Лилейные]]}} {{пример|}}~82671~16717')]\n",
            "[('лук', 'лук~ru~лук~ru~{{=|морской лук|({{lang|la|Urgínea marítima}}) многолетнее травянистое луковичное растение; вид рода [[ургинея]] (Urginea) семейства [[Гиацинтовые]].}} {{пример|}}~60110~38986')]\n",
            "[('лук', 'лук~ru~лук~ru~[[разновидность]] [[метательный|метательного]] [[оружие|оружия]], [[предназначенный|предназначенная]] для [[стрельба|стрельбы]] [[стрела]]ми {{пример|Человек освоил {{выдел|лук}} и стрелы задолго до изучения законов механики и сделал вполне приличный металлический топор без изучения микроскопических свойств металла. |Геннадий Горелик|Андрей Сахаров. Наука и свобода|2004|источник=НКРЯ}}~25293~28532')]\n"
          ],
          "name": "stdout"
        }
      ]
    },
    {
      "cell_type": "markdown",
      "metadata": {
        "id": "mg9Z-ZSroLsU",
        "colab_type": "text"
      },
      "source": [
        "Кажется, самое простое - это попробовать распарсить тезаурус"
      ]
    },
    {
      "cell_type": "code",
      "metadata": {
        "id": "vfrYMrAGNRuG",
        "colab_type": "code",
        "outputId": "32854a62-4a63-4edf-8661-89ed5508abd8",
        "colab": {
          "base_uri": "https://localhost:8080/",
          "height": 104
        }
      },
      "source": [
        "disambiguate(vm, 'лук', definitions[-1])"
      ],
      "execution_count": 81,
      "outputs": [
        {
          "output_type": "stream",
          "text": [
            "лук\n"
          ],
          "name": "stdout"
        },
        {
          "output_type": "stream",
          "text": [
            "/usr/local/lib/python3.6/dist-packages/adagram/model.py:171: RuntimeWarning: divide by zero encountered in log\n",
            "  z = np.log(z)\n"
          ],
          "name": "stderr"
        },
        {
          "output_type": "execute_result",
          "data": {
            "text/plain": [
              "1"
            ]
          },
          "metadata": {
            "tags": []
          },
          "execution_count": 81
        }
      ]
    },
    {
      "cell_type": "code",
      "metadata": {
        "id": "qECnmg7sRSWB",
        "colab_type": "code",
        "outputId": "3be770e8-7cda-43c4-cb1e-9c70dbaf488e",
        "colab": {
          "base_uri": "https://localhost:8080/",
          "height": 423
        }
      },
      "source": [
        "defs = []\n",
        "for context in definitions:\n",
        "    meaning = disambiguate(vm, word, context)\n",
        "    defs.append(meaning)\n",
        "    print('Контекст: ', context, '\\nЗначение: ', meaning)"
      ],
      "execution_count": 82,
      "outputs": [
        {
          "output_type": "stream",
          "text": [
            "лук\n",
            "Контекст:  лук~ru~лук~ru~{{ботан.|ru}} род луковичных [[растений]] (''Allium'') семейства [[Луковые]] (Alliaceae) {{пример|Там какое-то болото было, а {{выдел|лук}} рос на кочках.|Валентин Распутин|Последний срок|1970|источник=НКРЯ}}~65218~74957 \n",
            "Значение:  3\n",
            "лук\n",
            "Контекст:  луковица~ru~луковица~ru~головка лука {{пример|Разыскав связку лука, Детрей очистил две {{выдел|луковицы}}, искрошил, перемешал на большой сковороде с солью|Грин|Джесси и Моргиана|1928|источник=НКРЯ}}~45439~47202 \n",
            "Значение:  2\n",
            "лук\n",
            "Контекст:  лук~ru~лук~ru~{{=|репчатый лук|[[луковица|луковицы]] лука [1] как пищевой продукт}} {{пример|Кроме того, он был сварен с большим количеством {{выдел|лука}}, а Валя не любила варёный {{выдел|лук}}.|Татьяна Тронина|Русалка для интимных встреч|2004|источник=НКРЯ}}~94921~68014 \n",
            "Значение:  2\n",
            "лук\n",
            "Контекст:  лук~ru~лук~ru~{{=|зелёный лук|перья лука [1] как пищевой продукт}} {{пример|Она тыкала перья {{выдел|лука}} в соль, откусывала хлеб, подносила кружку дрожащей рукой ко рту, в серое пятнышко соли пулями ударялись слёзы и насквозь, до скоблёного дерева, пробивали его, развеивая по столу серую соляную пыль.|Виктор Астафьев|Весёлый солдат|издание=Новый Мир|1998|источник=НКРЯ}}~3840~28787 \n",
            "Значение:  2\n",
            "лук\n",
            "Контекст:  лук~ru~лук~ru~{{=|гусиный лук|({{lang|la|Gagea}}) — род травянистых луковичных растений семейства [[Лилейные]]}} {{пример|}}~82671~16717 \n",
            "Значение:  2\n",
            "лук\n",
            "Контекст:  лук~ru~лук~ru~{{=|морской лук|({{lang|la|Urgínea marítima}}) многолетнее травянистое луковичное растение; вид рода [[ургинея]] (Urginea) семейства [[Гиацинтовые]].}} {{пример|}}~60110~38986 \n",
            "Значение:  1\n",
            "лук\n",
            "Контекст:  лук~ru~лук~ru~[[разновидность]] [[метательный|метательного]] [[оружие|оружия]], [[предназначенный|предназначенная]] для [[стрельба|стрельбы]] [[стрела]]ми {{пример|Человек освоил {{выдел|лук}} и стрелы задолго до изучения законов механики и сделал вполне приличный металлический топор без изучения микроскопических свойств металла. |Геннадий Горелик|Андрей Сахаров. Наука и свобода|2004|источник=НКРЯ}}~25293~28532 \n",
            "Значение:  1\n"
          ],
          "name": "stdout"
        },
        {
          "output_type": "stream",
          "text": [
            "/usr/local/lib/python3.6/dist-packages/adagram/model.py:171: RuntimeWarning: divide by zero encountered in log\n",
            "  z = np.log(z)\n"
          ],
          "name": "stderr"
        }
      ]
    },
    {
      "cell_type": "markdown",
      "metadata": {
        "id": "CRUfM4WMbHPp",
        "colab_type": "text"
      },
      "source": [
        "Растение рода луковичных превратилось в евангелиста, и это нехорошо. Попробуем построить предсказание на примерах."
      ]
    },
    {
      "cell_type": "code",
      "metadata": {
        "id": "_4kBlsjZbQWA",
        "colab_type": "code",
        "colab": {
          "base_uri": "https://localhost:8080/",
          "height": 70
        },
        "outputId": "e1f56d84-623e-4a09-ca03-b9b423ae793b"
      },
      "source": [
        "import re\n",
        "dictionary = {}\n",
        "#лук~ru~лук~ru~{{=|зелёный лук|перья лука [1] как пищевой продукт}} {{пример|(.*?).|Виктор Астафьев|Весёлый солдат|издание=Новый Мир|1998|источник=НКРЯ}}\n",
        "regex = \"{{пример\\|(.*?)\\|\"\n",
        "regex2 = \"{{выдел\\|.*?}}\"\n",
        "for d in definitions:\n",
        "    d = re.sub(regex2, '', d)\n",
        "    try:\n",
        "        context = re.search(regex, d).group(1)\n",
        "    except AttributeError:\n",
        "        context = d\n",
        "    sense = disambiguate(vm, \"лук\", context)\n",
        "    dictionary[d] = sense"
      ],
      "execution_count": 89,
      "outputs": [
        {
          "output_type": "stream",
          "text": [
            "/usr/local/lib/python3.6/dist-packages/adagram/model.py:171: RuntimeWarning: divide by zero encountered in log\n",
            "  z = np.log(z)\n"
          ],
          "name": "stderr"
        }
      ]
    },
    {
      "cell_type": "code",
      "metadata": {
        "id": "K78SU1IeNpuW",
        "colab_type": "code",
        "colab": {
          "base_uri": "https://localhost:8080/",
          "height": 154
        },
        "outputId": "7b2e36a7-f51f-46c0-b1a5-9c70aef7a7f8"
      },
      "source": [
        "for key in dictionary:\n",
        "    print('Номер значения: {}. Толкование: {}'.format(dictionary[key], key))"
      ],
      "execution_count": 92,
      "outputs": [
        {
          "output_type": "stream",
          "text": [
            "Номер значения: 2. Толкование: лук~ru~лук~ru~{{ботан.|ru}} род луковичных [[растений]] (''Allium'') семейства [[Луковые]] (Alliaceae) {{пример|Там какое-то болото было, а  рос на кочках.|Валентин Распутин|Последний срок|1970|источник=НКРЯ}}~65218~74957\n",
            "Номер значения: 2. Толкование: луковица~ru~луковица~ru~головка лука {{пример|Разыскав связку лука, Детрей очистил две , искрошил, перемешал на большой сковороде с солью|Грин|Джесси и Моргиана|1928|источник=НКРЯ}}~45439~47202\n",
            "Номер значения: 2. Толкование: лук~ru~лук~ru~{{=|репчатый лук|[[луковица|луковицы]] лука [1] как пищевой продукт}} {{пример|Кроме того, он был сварен с большим количеством , а Валя не любила варёный .|Татьяна Тронина|Русалка для интимных встреч|2004|источник=НКРЯ}}~94921~68014\n",
            "Номер значения: 4. Толкование: лук~ru~лук~ru~{{=|зелёный лук|перья лука [1] как пищевой продукт}} {{пример|Она тыкала перья  в соль, откусывала хлеб, подносила кружку дрожащей рукой ко рту, в серое пятнышко соли пулями ударялись слёзы и насквозь, до скоблёного дерева, пробивали его, развеивая по столу серую соляную пыль.|Виктор Астафьев|Весёлый солдат|издание=Новый Мир|1998|источник=НКРЯ}}~3840~28787\n",
            "Номер значения: 2. Толкование: лук~ru~лук~ru~{{=|гусиный лук|({{lang|la|Gagea}}) — род травянистых луковичных растений семейства [[Лилейные]]}} {{пример|}}~82671~16717\n",
            "Номер значения: 1. Толкование: лук~ru~лук~ru~{{=|морской лук|({{lang|la|Urgínea marítima}}) многолетнее травянистое луковичное растение; вид рода [[ургинея]] (Urginea) семейства [[Гиацинтовые]].}} {{пример|}}~60110~38986\n",
            "Номер значения: 1. Толкование: лук~ru~лук~ru~[[разновидность]] [[метательный|метательного]] [[оружие|оружия]], [[предназначенный|предназначенная]] для [[стрельба|стрельбы]] [[стрела]]ми {{пример|Человек освоил  и стрелы задолго до изучения законов механики и сделал вполне приличный металлический топор без изучения микроскопических свойств металла. |Геннадий Горелик|Андрей Сахаров. Наука и свобода|2004|источник=НКРЯ}}~25293~28532\n"
          ],
          "name": "stdout"
        }
      ]
    },
    {
      "cell_type": "markdown",
      "metadata": {
        "id": "evy2jujhOIuc",
        "colab_type": "text"
      },
      "source": [
        "Все бы неплохо, но морской лук, у которого нет нормального примера, определяется как оружие, что не очень приятно."
      ]
    }
  ]
}